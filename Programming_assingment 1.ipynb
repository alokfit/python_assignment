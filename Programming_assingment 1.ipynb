{
 "cells": [
  {
   "cell_type": "code",
   "execution_count": 13,
   "id": "35b1c105-5ad7-4b06-8e22-eb4287b879b0",
   "metadata": {},
   "outputs": [
    {
     "name": "stdout",
     "output_type": "stream",
     "text": [
      "\"Hello Python\"\n"
     ]
    }
   ],
   "source": [
    "'''1. Write a Python program to print \"Hello Python\"?'''\n",
    "name = ('\"Hello Python\"')\n",
    "print(name)\n"
   ]
  },
  {
   "cell_type": "code",
   "execution_count": 19,
   "id": "3708067d-a984-4291-8924-00b090ab9e31",
   "metadata": {},
   "outputs": [
    {
     "name": "stdout",
     "output_type": "stream",
     "text": [
      "15\n",
      "2.0\n"
     ]
    }
   ],
   "source": [
    "'''2. Write a Python program to do arithmetical operations addition and division.?'''\n",
    "value1 = 10\n",
    "value2 = 5\n",
    "print(value1+value2)\n",
    "print(value1/value2)\n"
   ]
  },
  {
   "cell_type": "code",
   "execution_count": 21,
   "id": "52941102-5f4d-4fce-8658-d35a612da36d",
   "metadata": {},
   "outputs": [
    {
     "name": "stdin",
     "output_type": "stream",
     "text": [
      "enter the height of the triangle 12\n",
      "enter the base of the triangle 15\n"
     ]
    },
    {
     "name": "stdout",
     "output_type": "stream",
     "text": [
      "90.0\n"
     ]
    }
   ],
   "source": [
    "'''3. Write a Python program to find the area of a triangle?'''\n",
    "#area of a tringle formula (Area=1/2*base*height)\n",
    "\n",
    "height = float(input(\"enter the height of the triangle\"))\n",
    "base = float(input(\"enter the base of the triangle\"))\n",
    "\n",
    "area = 1/2*height*base\n",
    "print(area)"
   ]
  },
  {
   "cell_type": "code",
   "execution_count": 25,
   "id": "df71bd22-c7cb-41f4-894a-e9ab949ffffe",
   "metadata": {},
   "outputs": [
    {
     "name": "stdin",
     "output_type": "stream",
     "text": [
      "enter your first number:  4\n",
      "enter your first number:  10\n"
     ]
    },
    {
     "name": "stdout",
     "output_type": "stream",
     "text": [
      "4\n",
      "10\n",
      "10\n",
      "4\n"
     ]
    }
   ],
   "source": [
    "'''4. Write a Python program to swap two variables?'''\n",
    "a = int(input(\"enter your first number: \"))\n",
    "b= int(input(\"enter your first number: \"))\n",
    "\n",
    "print(a)\n",
    "print(b)\n",
    "a,b = b,a\n",
    "print(a)\n",
    "print(b)"
   ]
  },
  {
   "cell_type": "code",
   "execution_count": 37,
   "id": "a4b51a83-e659-41eb-a849-55633d9d740d",
   "metadata": {},
   "outputs": [
    {
     "name": "stdout",
     "output_type": "stream",
     "text": [
      "25\n"
     ]
    }
   ],
   "source": [
    "'''5. Write a Python program to generate a random number?'''\n",
    "import random as rd\n",
    "random_num = rd.randint(1,110)\n",
    "print(random_num)"
   ]
  },
  {
   "cell_type": "code",
   "execution_count": null,
   "id": "488ed43f-fa71-4201-a7e8-c857ff57f023",
   "metadata": {},
   "outputs": [],
   "source": []
  }
 ],
 "metadata": {
  "kernelspec": {
   "display_name": "Python [conda env:base] *",
   "language": "python",
   "name": "conda-base-py"
  },
  "language_info": {
   "codemirror_mode": {
    "name": "ipython",
    "version": 3
   },
   "file_extension": ".py",
   "mimetype": "text/x-python",
   "name": "python",
   "nbconvert_exporter": "python",
   "pygments_lexer": "ipython3",
   "version": "3.12.7"
  }
 },
 "nbformat": 4,
 "nbformat_minor": 5
}
