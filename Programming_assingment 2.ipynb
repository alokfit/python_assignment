{
 "cells": [
  {
   "cell_type": "code",
   "execution_count": 9,
   "id": "45889993-8691-4c14-8a18-c90b2b9d22df",
   "metadata": {},
   "outputs": [
    {
     "name": "stdin",
     "output_type": "stream",
     "text": [
      "enter kilometers 10\n"
     ]
    },
    {
     "name": "stdout",
     "output_type": "stream",
     "text": [
      "6.21371\n"
     ]
    }
   ],
   "source": [
    "'''1. Write a Python program to convert kilometers to miles?'''\n",
    "kilometers = int(input(\"enter kilometers\"))\n",
    "\n",
    "miles = kilometers*0.621371\n",
    "print(miles)"
   ]
  },
  {
   "cell_type": "code",
   "execution_count": 27,
   "id": "cc53b15a-9f70-40d5-9351-8269c59eb851",
   "metadata": {},
   "outputs": [
    {
     "name": "stdin",
     "output_type": "stream",
     "text": [
      "celsius 37.5\n"
     ]
    },
    {
     "name": "stdout",
     "output_type": "stream",
     "text": [
      "99.5\n"
     ]
    }
   ],
   "source": [
    "'''2. Write a Python program to convert Celsius to Fahrenheit?'''\n",
    "celsius = float(input(\"celsius\"))\n",
    "\n",
    "F = (celsius*9/5)+32\n",
    "print(F)"
   ]
  },
  {
   "cell_type": "code",
   "execution_count": 35,
   "id": "96fb6ce7-a669-495e-ab63-5966de2e2365",
   "metadata": {},
   "outputs": [
    {
     "name": "stdin",
     "output_type": "stream",
     "text": [
      "enter years 2025\n",
      "enter months(1-12) 6\n"
     ]
    },
    {
     "name": "stdout",
     "output_type": "stream",
     "text": [
      "     June 2025\n",
      "Mo Tu We Th Fr Sa Su\n",
      "                   1\n",
      " 2  3  4  5  6  7  8\n",
      " 9 10 11 12 13 14 15\n",
      "16 17 18 19 20 21 22\n",
      "23 24 25 26 27 28 29\n",
      "30\n",
      "\n"
     ]
    }
   ],
   "source": [
    "'''3. Write a Python program to display calendar?'''\n",
    "import calendar as cd\n",
    "years = int(input(\"enter years\"))\n",
    "months = int(input(\"enter months(1-12)\"))\n",
    "\n",
    "calendrs = cd.month(years,months)\n",
    "print(calendrs)"
   ]
  },
  {
   "cell_type": "code",
   "execution_count": null,
   "id": "9cdd8706-3145-4d37-b46c-b93569224a46",
   "metadata": {},
   "outputs": [],
   "source": [
    "'''4. Write a Python program to solve quadratic equation?'''\n",
    "\n"
   ]
  },
  {
   "cell_type": "code",
   "execution_count": 11,
   "id": "ba37a714-8bef-4cd9-8ebe-5de598b459d9",
   "metadata": {},
   "outputs": [
    {
     "name": "stdout",
     "output_type": "stream",
     "text": [
      "4\n",
      "7\n",
      "7\n",
      "4\n"
     ]
    }
   ],
   "source": [
    "'''5. Write a Python program to swap two variables without temp variable?'''\n",
    "a = 4\n",
    "b = 7\n",
    "\n",
    "print(a)\n",
    "print(b)\n",
    "\n",
    "a,b = b,a\n",
    "\n",
    "print(a)\n",
    "print(b)\n"
   ]
  },
  {
   "cell_type": "code",
   "execution_count": null,
   "id": "27ec6561-700c-4872-aa64-a878bfd2c95f",
   "metadata": {},
   "outputs": [],
   "source": []
  }
 ],
 "metadata": {
  "kernelspec": {
   "display_name": "Python [conda env:base] *",
   "language": "python",
   "name": "conda-base-py"
  },
  "language_info": {
   "codemirror_mode": {
    "name": "ipython",
    "version": 3
   },
   "file_extension": ".py",
   "mimetype": "text/x-python",
   "name": "python",
   "nbconvert_exporter": "python",
   "pygments_lexer": "ipython3",
   "version": "3.12.7"
  }
 },
 "nbformat": 4,
 "nbformat_minor": 5
}
