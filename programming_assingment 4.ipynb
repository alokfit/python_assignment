{
 "cells": [
  {
   "cell_type": "code",
   "execution_count": 1,
   "id": "2578634b-0e66-4128-94b8-93cc3884a4f1",
   "metadata": {},
   "outputs": [
    {
     "name": "stdin",
     "output_type": "stream",
     "text": [
      "enter your number 5\n"
     ]
    },
    {
     "name": "stdout",
     "output_type": "stream",
     "text": [
      "120\n"
     ]
    }
   ],
   "source": [
    "'''1. Write a Python Program to Find the Factorial of a Number?'''\n",
    "get_factorial = int(input(\"enter your number\"))\n",
    "total = 1\n",
    "for i in range(1,get_factorial+1):\n",
    "    total *= i\n",
    "print(total)"
   ]
  },
  {
   "cell_type": "code",
   "execution_count": 2,
   "id": "838b0573-8efa-4e03-9246-45f8a3565ded",
   "metadata": {},
   "outputs": [
    {
     "name": "stdin",
     "output_type": "stream",
     "text": [
      "enter your number 2\n"
     ]
    },
    {
     "name": "stdout",
     "output_type": "stream",
     "text": [
      "2\n",
      "4\n",
      "6\n",
      "8\n",
      "10\n",
      "12\n",
      "14\n",
      "16\n",
      "18\n",
      "20\n"
     ]
    }
   ],
   "source": [
    "'''2. Write a Python Program to Display the multiplication Table?'''\n",
    "num = int(input(\"enter your number\"))\n",
    "\n",
    "for i in range(1,11):\n",
    "    print(f\"{num*i}\")"
   ]
  },
  {
   "cell_type": "code",
   "execution_count": 3,
   "id": "990a0eba-bacc-4266-828e-7c92eca5091c",
   "metadata": {},
   "outputs": [
    {
     "name": "stdin",
     "output_type": "stream",
     "text": [
      "enter your number 10\n"
     ]
    },
    {
     "name": "stdout",
     "output_type": "stream",
     "text": [
      "1\n",
      "2\n",
      "3\n",
      "5\n",
      "8\n"
     ]
    }
   ],
   "source": [
    "'''3. Write a Python Program to Print the Fibonacci sequence?'''\n",
    "num = int(input(\"enter your number\"))\n",
    "\n",
    "a = 0\n",
    "b = 1\n",
    "c = a+b\n",
    "\n",
    "while c <= num:\n",
    "    print(c)\n",
    "    a = b\n",
    "    b = c\n",
    "    c = a+b"
   ]
  },
  {
   "cell_type": "code",
   "execution_count": 15,
   "id": "46153816-5f4d-406c-9c73-5e713691b1c4",
   "metadata": {},
   "outputs": [
    {
     "name": "stdin",
     "output_type": "stream",
     "text": [
      "enter your number 185\n"
     ]
    },
    {
     "name": "stdout",
     "output_type": "stream",
     "text": [
      "not a armstrong number\n"
     ]
    }
   ],
   "source": [
    "'''4. Write a Python Program to Check Armstrong Number?'''\n",
    "num1 = int(input(\"enter your number\"))\n",
    "original = num1\n",
    "total = 0\n",
    "\n",
    "while num1 > 0:\n",
    "    total = total + (num1%10) * (num1%10) * (num1%10)\n",
    "    num1 = num1//10\n",
    "\n",
    "if original == total:\n",
    "    print(f\"{original} is an armstrong number\")\n",
    "\n",
    "else:\n",
    "    print(\"not a armstrong number\")\n"
   ]
  },
  {
   "cell_type": "code",
   "execution_count": null,
   "id": "40b8538d-57cd-4d0e-a4a1-9632ef50fa77",
   "metadata": {},
   "outputs": [],
   "source": [
    "'''5.Write a Python Program to Find Armstrong Number in an Interval?'''\n"
   ]
  },
  {
   "cell_type": "code",
   "execution_count": 27,
   "id": "9d18f388-29c9-49df-9290-646af58ac08d",
   "metadata": {},
   "outputs": [
    {
     "name": "stdin",
     "output_type": "stream",
     "text": [
      "enter your number 5\n"
     ]
    },
    {
     "name": "stdout",
     "output_type": "stream",
     "text": [
      "15.0\n"
     ]
    }
   ],
   "source": [
    "'''6.Write a Python Program to Find the Sum of Natural Numbers?'''\n",
    "positive_number = int(input(\"enter your number\"))\n",
    "\n",
    "if positive_number <= 0:\n",
    "    print(\"please enter only positive number\")\n",
    "\n",
    "else:\n",
    "    total = positive_number *(positive_number+1)/2\n",
    "    print(total) "
   ]
  },
  {
   "cell_type": "code",
   "execution_count": null,
   "id": "ebe25570-fcfe-42c4-9d6e-653b5f9c8880",
   "metadata": {},
   "outputs": [],
   "source": []
  }
 ],
 "metadata": {
  "kernelspec": {
   "display_name": "Python [conda env:base] *",
   "language": "python",
   "name": "conda-base-py"
  },
  "language_info": {
   "codemirror_mode": {
    "name": "ipython",
    "version": 3
   },
   "file_extension": ".py",
   "mimetype": "text/x-python",
   "name": "python",
   "nbconvert_exporter": "python",
   "pygments_lexer": "ipython3",
   "version": "3.12.7"
  }
 },
 "nbformat": 4,
 "nbformat_minor": 5
}
