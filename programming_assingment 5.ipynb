{
 "cells": [
  {
   "cell_type": "markdown",
   "id": "311a571d-0f82-4128-b74b-779abe7f41c2",
   "metadata": {},
   "source": [
    "1. Write a Python Program to Find LCM?\n"
   ]
  },
  {
   "cell_type": "code",
   "execution_count": 18,
   "id": "020af1d3-7d0f-4424-a858-4121a1934f19",
   "metadata": {},
   "outputs": [
    {
     "name": "stdin",
     "output_type": "stream",
     "text": [
      "enter your first number 4\n",
      "enter your second number 6\n"
     ]
    },
    {
     "name": "stdout",
     "output_type": "stream",
     "text": [
      "12\n"
     ]
    }
   ],
   "source": [
    "def find_lcm(a,b):\n",
    "    '''this function find the lcm and this function created by Alok Yadav'''\n",
    "    if a > b:\n",
    "        greater = a\n",
    "    else:\n",
    "        greater = b\n",
    "\n",
    "    while True:\n",
    "        if (greater % a == 0) and (greater % b == 0):\n",
    "            lcm = greater\n",
    "            break\n",
    "        greater += 1\n",
    "    return lcm\n",
    "\n",
    "num1 = int(input(\"enter your first number\"))\n",
    "num2 = int(input(\"enter your second number\"))\n",
    "\n",
    "print(find_lcm(num1,num2))"
   ]
  },
  {
   "cell_type": "markdown",
   "id": "ef788312-d3ae-4ce8-9e41-ab16e65425c0",
   "metadata": {},
   "source": [
    "2. Write a Python Program to Find HCF?"
   ]
  },
  {
   "cell_type": "code",
   "execution_count": 116,
   "id": "e17e4b34-d84d-489e-8b22-81e893431890",
   "metadata": {},
   "outputs": [
    {
     "name": "stdin",
     "output_type": "stream",
     "text": [
      "enter your first numner 4\n",
      "enter your 2nd numner 2\n"
     ]
    },
    {
     "name": "stdout",
     "output_type": "stream",
     "text": [
      "1\n"
     ]
    }
   ],
   "source": [
    "\n",
    "def find_hcf(a,b):\n",
    "    if a > b:\n",
    "        smaller = b\n",
    "    else:\n",
    "        smaller = a\n",
    "    for i in range(1,smaller+1):\n",
    "        if (a % i == 0) and (b % i == 0):\n",
    "            hcf = 1\n",
    "    return hcf\n",
    "\n",
    "num1 = int(input(\"enter your first numner\"))\n",
    "num2 = int(input(\"enter your 2nd numner\"))\n",
    "\n",
    "print(find_hcf(num1,num2))\n"
   ]
  },
  {
   "cell_type": "code",
   "execution_count": 118,
   "id": "efefe962-0108-4729-9aed-0e7770b843ed",
   "metadata": {},
   "outputs": [
    {
     "data": {
      "text/plain": [
       "1"
      ]
     },
     "execution_count": 118,
     "metadata": {},
     "output_type": "execute_result"
    }
   ],
   "source": [
    "find_hcf(4,2)"
   ]
  },
  {
   "cell_type": "markdown",
   "id": "ab11fc5b-cb6e-44cd-940f-afce0ad62d74",
   "metadata": {},
   "source": [
    "3. Write a Python Program to Convert Decimal to Binary, Octal and Hexadecimal?"
   ]
  },
  {
   "cell_type": "code",
   "execution_count": 137,
   "id": "90e526b2-8702-48a6-a608-9dba787e2f9f",
   "metadata": {},
   "outputs": [
    {
     "name": "stdin",
     "output_type": "stream",
     "text": [
      "enter your number to convert in: 5\n"
     ]
    },
    {
     "name": "stdout",
     "output_type": "stream",
     "text": [
      "binary number is 0b101\n",
      "ococtal number is 0o5\n",
      "hexhexadecimal number is 0x5\n"
     ]
    }
   ],
   "source": [
    "def convert_num(decimal):\n",
    "    binary = bin(decimal)\n",
    "    octal = oct(decimal)\n",
    "    hexadecimal = hex(decimal)\n",
    "    print(f\"binary number is {binary}\")\n",
    "    print(f\"ococtal number is {octal}\")\n",
    "    print(f\"hexhexadecimal number is {hexadecimal}\")\n",
    "\n",
    "decimal_number = int(input(\"enter your number to convert in:\" ))\n",
    "# print(convert_num(decimal_number))\n",
    "convert_num(5)\n"
   ]
  },
  {
   "cell_type": "markdown",
   "id": "8ffde1f5-1060-4393-aad2-6165e55bc9e1",
   "metadata": {},
   "source": [
    "4. Write a Python Program To Find ASCII value of a character?"
   ]
  },
  {
   "cell_type": "code",
   "execution_count": 4,
   "id": "70a02b57-5133-44b9-b781-c32e4513ea6d",
   "metadata": {},
   "outputs": [
    {
     "name": "stdin",
     "output_type": "stream",
     "text": [
      "enter your number:  9\n"
     ]
    },
    {
     "data": {
      "text/plain": [
       "57"
      ]
     },
     "execution_count": 4,
     "metadata": {},
     "output_type": "execute_result"
    }
   ],
   "source": [
    "\n",
    "def find_ascii(num):\n",
    "    return ord(num)\n",
    "number = input(\"enter your number: \")\n",
    "ascii_num = find_ascii(number)\n",
    "ascii_num"
   ]
  },
  {
   "cell_type": "markdown",
   "id": "9a4c363a-c60a-44b7-9e34-d40cf9f60385",
   "metadata": {},
   "source": [
    "5. Write a Python Program to Make a Simple Calculator with 4 basic mathematical operations?"
   ]
  },
  {
   "cell_type": "code",
   "execution_count": 13,
   "id": "723509fc-a8dc-48f3-9bf8-760a6ef48b42",
   "metadata": {},
   "outputs": [
    {
     "name": "stdin",
     "output_type": "stream",
     "text": [
      "enter your number:  85\n",
      "enter your opreator :  /\n",
      "enter your number:  5\n"
     ]
    },
    {
     "name": "stdout",
     "output_type": "stream",
     "text": [
      "17.0\n"
     ]
    }
   ],
   "source": [
    "\n",
    "def calculator(a,operator,b):\n",
    "    if operator == \"+\":\n",
    "        return a+b\n",
    "    elif operator == \"-\":\n",
    "        return a-b\n",
    "    elif operator == \"*\":\n",
    "        return a*b\n",
    "    elif operator == \"/\":\n",
    "        if b != 0:\n",
    "            return a/b\n",
    "        else:\n",
    "            print(\"zero in not divisional number\")\n",
    "    else:\n",
    "        return \"wrong input\"\n",
    "\n",
    "a = int(input(\"enter your number: \"))\n",
    "operator = input(\"enter your opreator : \")\n",
    "b = int(input(\"enter your number: \"))\n",
    "\n",
    "result = calculator(a,operator,b)\n",
    "print(result)"
   ]
  },
  {
   "cell_type": "code",
   "execution_count": null,
   "id": "326f93a7-6097-4d4e-8fca-921e1a7112e0",
   "metadata": {},
   "outputs": [],
   "source": []
  },
  {
   "cell_type": "code",
   "execution_count": 10,
   "id": "caa8b995-def2-43cc-ab05-be6d75b69c7a",
   "metadata": {},
   "outputs": [
    {
     "data": {
      "text/plain": [
       "17.0"
      ]
     },
     "execution_count": 10,
     "metadata": {},
     "output_type": "execute_result"
    }
   ],
   "source": [
    "calculator(85,\"/\",5)"
   ]
  },
  {
   "cell_type": "code",
   "execution_count": null,
   "id": "8af33bea-799d-4d5e-bde7-4828618238f1",
   "metadata": {},
   "outputs": [],
   "source": [
    "\n",
    "    "
   ]
  }
 ],
 "metadata": {
  "kernelspec": {
   "display_name": "Python 3 (ipykernel)",
   "language": "python",
   "name": "python3"
  },
  "language_info": {
   "codemirror_mode": {
    "name": "ipython",
    "version": 3
   },
   "file_extension": ".py",
   "mimetype": "text/x-python",
   "name": "python",
   "nbconvert_exporter": "python",
   "pygments_lexer": "ipython3",
   "version": "3.13.3"
  }
 },
 "nbformat": 4,
 "nbformat_minor": 5
}
